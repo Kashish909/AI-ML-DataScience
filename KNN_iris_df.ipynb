{
 "cells": [
  {
   "cell_type": "code",
   "execution_count": 44,
   "metadata": {},
   "outputs": [],
   "source": [
    "# Example of kNN implemented from Scratch in Python\n",
    "\n",
    "import csv\n",
    "import random\n",
    "import math\n",
    "import operator\n",
    "from sklearn import datasets\n",
    "import pandas as pd\n",
    "import numpy as np\n",
    "import matplotlib.pyplot as plt\n",
    "import seaborn as sns\n",
    "# import some data to play with\n",
    "# iris = datasets.load_iris()\n",
    "# dataset=iris\n",
    "# define column names\n",
    "names = ['sepal_length', 'sepal_width', 'petal_length', 'petal_width', 'class']\n",
    "\n",
    "\n",
    "df=pd.read_csv('/Users/vishwaprabhakarsingh/Desktop/Projects/AI_ML_DataScience/IRIS.csv',header=None, names=names)\n"
   ]
  },
  {
   "cell_type": "code",
   "execution_count": 26,
   "metadata": {},
   "outputs": [
    {
     "data": {
      "text/html": [
       "<div>\n",
       "<style scoped>\n",
       "    .dataframe tbody tr th:only-of-type {\n",
       "        vertical-align: middle;\n",
       "    }\n",
       "\n",
       "    .dataframe tbody tr th {\n",
       "        vertical-align: top;\n",
       "    }\n",
       "\n",
       "    .dataframe thead th {\n",
       "        text-align: right;\n",
       "    }\n",
       "</style>\n",
       "<table border=\"1\" class=\"dataframe\">\n",
       "  <thead>\n",
       "    <tr style=\"text-align: right;\">\n",
       "      <th></th>\n",
       "      <th></th>\n",
       "      <th></th>\n",
       "      <th></th>\n",
       "      <th>sepal_length</th>\n",
       "      <th>sepal_width</th>\n",
       "      <th>petal_length</th>\n",
       "      <th>petal_width</th>\n",
       "      <th>class</th>\n",
       "    </tr>\n",
       "  </thead>\n",
       "  <tbody>\n",
       "    <tr>\n",
       "      <th>5.1</th>\n",
       "      <th>0.222222</th>\n",
       "      <th>3.5</th>\n",
       "      <th>0.625000</th>\n",
       "      <td>1.4</td>\n",
       "      <td>0.067797</td>\n",
       "      <td>0.2</td>\n",
       "      <td>0.041667</td>\n",
       "      <td>setosa</td>\n",
       "    </tr>\n",
       "    <tr>\n",
       "      <th>4.9</th>\n",
       "      <th>0.166667</th>\n",
       "      <th>3.0</th>\n",
       "      <th>0.416667</th>\n",
       "      <td>1.4</td>\n",
       "      <td>0.067797</td>\n",
       "      <td>0.2</td>\n",
       "      <td>0.041667</td>\n",
       "      <td>setosa</td>\n",
       "    </tr>\n",
       "    <tr>\n",
       "      <th>4.7</th>\n",
       "      <th>0.111111</th>\n",
       "      <th>3.2</th>\n",
       "      <th>0.500000</th>\n",
       "      <td>1.3</td>\n",
       "      <td>0.050847</td>\n",
       "      <td>0.2</td>\n",
       "      <td>0.041667</td>\n",
       "      <td>setosa</td>\n",
       "    </tr>\n",
       "    <tr>\n",
       "      <th>4.6</th>\n",
       "      <th>0.083333</th>\n",
       "      <th>3.1</th>\n",
       "      <th>0.458333</th>\n",
       "      <td>1.5</td>\n",
       "      <td>0.084746</td>\n",
       "      <td>0.2</td>\n",
       "      <td>0.041667</td>\n",
       "      <td>setosa</td>\n",
       "    </tr>\n",
       "    <tr>\n",
       "      <th>5.0</th>\n",
       "      <th>0.194444</th>\n",
       "      <th>3.6</th>\n",
       "      <th>0.666667</th>\n",
       "      <td>1.4</td>\n",
       "      <td>0.067797</td>\n",
       "      <td>0.2</td>\n",
       "      <td>0.041667</td>\n",
       "      <td>setosa</td>\n",
       "    </tr>\n",
       "  </tbody>\n",
       "</table>\n",
       "</div>"
      ],
      "text/plain": [
       "                           sepal_length  sepal_width  petal_length  \\\n",
       "5.1 0.222222 3.5 0.625000           1.4     0.067797           0.2   \n",
       "4.9 0.166667 3.0 0.416667           1.4     0.067797           0.2   \n",
       "4.7 0.111111 3.2 0.500000           1.3     0.050847           0.2   \n",
       "4.6 0.083333 3.1 0.458333           1.5     0.084746           0.2   \n",
       "5.0 0.194444 3.6 0.666667           1.4     0.067797           0.2   \n",
       "\n",
       "                           petal_width   class  \n",
       "5.1 0.222222 3.5 0.625000     0.041667  setosa  \n",
       "4.9 0.166667 3.0 0.416667     0.041667  setosa  \n",
       "4.7 0.111111 3.2 0.500000     0.041667  setosa  \n",
       "4.6 0.083333 3.1 0.458333     0.041667  setosa  \n",
       "5.0 0.194444 3.6 0.666667     0.041667  setosa  "
      ]
     },
     "execution_count": 26,
     "metadata": {},
     "output_type": "execute_result"
    }
   ],
   "source": [
    "\n",
    "df.head()"
   ]
  },
  {
   "cell_type": "code",
   "execution_count": 27,
   "metadata": {},
   "outputs": [
    {
     "name": "stderr",
     "output_type": "stream",
     "text": [
      "/Users/vishwaprabhakarsingh/anaconda/lib/python3.6/site-packages/sklearn/cross_validation.py:41: DeprecationWarning: This module was deprecated in version 0.18 in favor of the model_selection module into which all the refactored classes and functions are moved. Also note that the interface of the new CV iterators are different from that of this module. This module will be removed in 0.20.\n",
      "  \"This module will be removed in 0.20.\", DeprecationWarning)\n",
      "/Users/vishwaprabhakarsingh/anaconda/lib/python3.6/site-packages/ipykernel_launcher.py:6: DeprecationWarning: \n",
      ".ix is deprecated. Please use\n",
      ".loc for label based indexing or\n",
      ".iloc for positional indexing\n",
      "\n",
      "See the documentation here:\n",
      "http://pandas.pydata.org/pandas-docs/stable/indexing.html#ix-indexer-is-deprecated\n",
      "  \n"
     ]
    }
   ],
   "source": [
    "# loading libraries\n",
    "import numpy as np\n",
    "from sklearn.cross_validation import train_test_split\n",
    "\n",
    "# create design matrix X and target vector y\n",
    "X = np.array(df.ix[:, 0:4]) \t# end index is exclusive\n",
    "y = np.array(df['class']) \t# another way of indexing a pandas df\n",
    "\n",
    "# split into train and test\n",
    "X_train, X_test, y_train, y_test = train_test_split(X, y, test_size=0.33, random_state=42)"
   ]
  },
  {
   "cell_type": "code",
   "execution_count": 29,
   "metadata": {},
   "outputs": [],
   "source": [
    "# loading library\n",
    "from sklearn.neighbors import KNeighborsClassifier\n",
    "\n",
    "# instantiate learning model (k = 3)\n",
    "knn = KNeighborsClassifier(n_neighbors=3)\n",
    "\n",
    "# fitting the model\n",
    "knn.fit(X_train, y_train)\n",
    "\n",
    "# predict the response\n",
    "pred = knn.predict(X_test)\n",
    "\n",
    "# evaluate accuracy\n",
    "#print (accuracy_score(y_test, pred))"
   ]
  },
  {
   "cell_type": "code",
   "execution_count": 30,
   "metadata": {},
   "outputs": [
    {
     "name": "stdout",
     "output_type": "stream",
     "text": [
      "['virginica' 'versicolor' 'virginica' 'versicolor' 'versicolor'\n",
      " 'versicolor' 'setosa' 'virginica' 'setosa' 'setosa' 'setosa' 'setosa'\n",
      " 'virginica' 'versicolor' 'virginica' 'setosa' 'virginica' 'virginica'\n",
      " 'setosa' 'setosa' 'versicolor' 'virginica' 'setosa' 'versicolor'\n",
      " 'virginica' 'setosa' 'versicolor' 'virginica' 'setosa' 'versicolor'\n",
      " 'setosa' 'versicolor' 'versicolor']\n"
     ]
    }
   ],
   "source": [
    "print(pred)"
   ]
  },
  {
   "cell_type": "code",
   "execution_count": 31,
   "metadata": {},
   "outputs": [],
   "source": [
    "import collections\n",
    "def train(X_train, y_train):\n",
    "    # do nothing\n",
    "    return"
   ]
  },
  {
   "cell_type": "code",
   "execution_count": 32,
   "metadata": {},
   "outputs": [],
   "source": [
    "def predict(X_train, y_train, x_test, k):\n",
    "    # first we compute the euclidean distance\n",
    "    distances = [\n",
    "        [np.sqrt(np.sum(np.square(x_test - x_train))), i] \n",
    "        for i, x_train in enumerate(X_train)\n",
    "    ]\n",
    "        \n",
    "    # sort the list\n",
    "    distances = sorted(distances)\n",
    "    \n",
    "    # make a list of the k neighbors' targets\n",
    "    targets = [y_train[distance[1]] for distance in distances[:k]]\n",
    "        \n",
    "    # return most common target\n",
    "    return collections.Counter(targets).most_common(1)[0][0]\n"
   ]
  },
  {
   "cell_type": "code",
   "execution_count": 33,
   "metadata": {},
   "outputs": [],
   "source": [
    "def k_nearest_neighbour(X_train, y_train, X_test, k):\n",
    "    # train on the input data\n",
    "    train(X_train, y_train)\n",
    "    \n",
    "    # loop over all observations\n",
    "    return [predict(X_train, y_train, x_test, k) for x_test in X_test]"
   ]
  },
  {
   "cell_type": "code",
   "execution_count": 41,
   "metadata": {},
   "outputs": [],
   "source": [
    "# making our predictions \n",
    "pred = k_nearest_neighbour(X_train, y_train, X_test, 1)\n",
    "\n",
    "# transform the list into an array\n",
    "pred = np.asarray(pred)\n",
    "\n",
    "# # evaluating accuracy\n",
    "# accuracy = accuracy_score(y_test, pred)\n",
    "# print('\\nThe accuracy of our classifier is {}'.format(accuracy))"
   ]
  },
  {
   "cell_type": "code",
   "execution_count": 45,
   "metadata": {},
   "outputs": [
    {
     "data": {
      "image/png": "[encoded data removed]",
      "text/plain": [
       "<matplotlib.figure.Figure at 0x117f06400>"
      ]
     },
     "metadata": {},
     "output_type": "display_data"
    }
   ],
   "source": [
    "sns.lmplot('sepal_length', 'sepal_width', data=df, hue='class', fit_reg=False)\n",
    "plt.show()"
   ]
  },
  {
   "cell_type": "code",
   "execution_count": 42,
   "metadata": {},
   "outputs": [
    {
     "data": {
      "image/png": "[encoded data removed]",
      "text/plain": [
       "<matplotlib.figure.Figure at 0x116cf3cc0>"
      ]
     },
     "metadata": {},
     "output_type": "display_data"
    }
   ],
   "source": [
    "def label_to_int(labels):\n",
    "    return [list(set(labels)).index(y_value) for y_value in labels]\n",
    "\n",
    "# use color map, otherwise it will be grayscale\n",
    "from matplotlib import cm\n",
    "\n",
    "# choose 2 features to classify\n",
    "features_indexes = [0,1]\n",
    "\n",
    "# Plotting decision regions\n",
    "x_min, x_max = X[:, features_indexes[0]].min() - 1, X[:, features_indexes[0]].max() + 1\n",
    "y_min, y_max = X[:, features_indexes[1]].min() - 1, X[:, features_indexes[1]].max() + 1\n",
    "xx, yy = np.meshgrid(np.arange(x_min, x_max, 0.1),\n",
    "                     np.arange(y_min, y_max, 0.1))\n",
    "\n",
    "knn = KNeighborsClassifier(n_neighbors=13)\n",
    "knn.fit(X_train[:, features_indexes], y_train)\n",
    "\n",
    "Z = knn.predict(np.c_[xx.ravel(), yy.ravel()])\n",
    "Z = np.array(label_to_int(Z))\n",
    "Z = Z.reshape(xx.shape)\n",
    "\n",
    "# TODO: try to use seaborn instead \n",
    "plt.contourf(xx, yy, Z, alpha=0.4, cmap=cm.jet)\n",
    "plt.scatter(X[:, features_indexes[0]], X[:, features_indexes[1]], c=[list(set(y)).index(y_value) for y_value in y], alpha=0.9, cmap=cm.jet)\n",
    "plt.show()"
   ]
  },
  {
   "cell_type": "code",
   "execution_count": null,
   "metadata": {},
   "outputs": [],
   "source": []
  }
 ],
 "metadata": {
  "kernelspec": {
   "display_name": "Python 3",
   "language": "python",
   "name": "python3"
  },
  "language_info": {
   "codemirror_mode": {
    "name": "ipython",
    "version": 3
   },
   "file_extension": ".py",
   "mimetype": "text/x-python",
   "name": "python",
   "nbconvert_exporter": "python",
   "pygments_lexer": "ipython3",
   "version": "3.6.4"
  }
 },
 "nbformat": 4,
 "nbformat_minor": 2
}
